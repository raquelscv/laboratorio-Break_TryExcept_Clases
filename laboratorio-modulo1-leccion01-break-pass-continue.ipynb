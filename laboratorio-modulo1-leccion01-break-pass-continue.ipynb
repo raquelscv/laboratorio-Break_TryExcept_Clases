{
 "cells": [
  {
   "cell_type": "markdown",
   "metadata": {},
   "source": [
    "\n",
    "<div style=\"text-align: center;\">\n",
    "  <img src=\"https://github.com/Hack-io-Data/Imagenes/blob/main/01-LogosHackio/logo_celeste@4x.png?raw=true\" alt=\"esquema\" />\n",
    "</div>\n"
   ]
  },
  {
   "cell_type": "markdown",
   "metadata": {},
   "source": [
    "# Laboratorio de Python: break(), pass(), continue()"
   ]
  },
  {
   "cell_type": "markdown",
   "metadata": {},
   "source": [
    "## Ejercicio 1: Validación de datos numéricos. \n",
    "\n",
    "Escribe un bucle que lea una lista de números y detenga la ejecución si encuentra un valor negativo. Muestra un mensaje indicando el número negativo encontrado.\n"
   ]
  },
  {
   "cell_type": "code",
   "execution_count": null,
   "metadata": {},
   "outputs": [],
   "source": [
    "def validacion_datos(lista_numeros):\n",
    "  for numero in lista_numeros:\n",
    "    if numero < 0:\n",
    "      print(f\"Se ha encontrado un número negativo. Es el {numero}\")\n",
    "      break\n",
    "  else:\n",
    "    print(f\"No se han encontrado números negativos\")\n",
    "\n",
    "validacion_datos([10, 20, -15, 5, 30, 25])"
   ]
  },
  {
   "cell_type": "markdown",
   "metadata": {},
   "source": [
    "\n",
    "## Ejercicio 2: Filtrado de datos\n",
    "\n",
    "Escribe un bucle que imprima los números de una lista, pero que omita los números pares.\n"
   ]
  },
  {
   "cell_type": "code",
   "execution_count": null,
   "metadata": {},
   "outputs": [],
   "source": [
    "def filtrado_datos(lista_numeros):\n",
    "  for numero in lista_numeros:\n",
    "    if numero % 2 != 0:\n",
    "      print(numero)\n",
    "    else:\n",
    "        continue\n",
    "\n",
    "filtrado_datos([2, 4, 5, 10, 15, 22])"
   ]
  },
  {
   "cell_type": "markdown",
   "metadata": {},
   "source": [
    "## Ejercicio 3: Búsqueda de un valor\n",
    "\n",
    "Escribe un programa que busque un valor específico en una lista y detenga la búsqueda cuando lo encuentre. Si se encuentra, muestra un mensaje.\n"
   ]
  },
  {
   "cell_type": "code",
   "execution_count": null,
   "metadata": {},
   "outputs": [],
   "source": [
    "def busqueda_valor(lista_frutas):\n",
    "  for fruta in lista_frutas:\n",
    "    if fruta == \"plátano\":\n",
    "      print(f\"Se ha encontrado la fruta buscada: {fruta}\")\n",
    "      break \n",
    "  else:\n",
    "    print(f\"No se ha encontrado la fruta buscada\")\n",
    "\n",
    "busqueda_valor([\"manzana\", \"plátano\", \"fresa\"])"
   ]
  },
  {
   "cell_type": "markdown",
   "metadata": {},
   "source": [
    "## Ejercicio 4: Estructura de código incompleto\n",
    "\n",
    "Define una función que aún no tenga lógica implementada, pero que se pueda ejecutar sin errores utilizando `pass`."
   ]
  },
  {
   "cell_type": "code",
   "execution_count": null,
   "metadata": {},
   "outputs": [],
   "source": [
    "def saludo():\n",
    "    pass"
   ]
  },
  {
   "cell_type": "markdown",
   "metadata": {},
   "source": [
    "## Ejercicio 5: Validación condicional\n",
    "\n",
    "Escribe un bucle que verifique una lista de nombres. Si encuentra un nombre vacío (cadena vacía), salta esa iteración y continúa con los demás nombres.\n"
   ]
  },
  {
   "cell_type": "code",
   "execution_count": null,
   "metadata": {},
   "outputs": [],
   "source": [
    "def validacion_condicional(lista_nombres):\n",
    "  nombres_sin_vacios = []\n",
    "  for nombre in lista_nombres:\n",
    "    if nombre == \"\":\n",
    "      continue\n",
    "    else:\n",
    "      nombres_sin_vacios.append(nombre)\n",
    "  return nombres_sin_vacios\n",
    "\n",
    "validacion_condicional([\"Raquel\", \"Gabriela\", \"\", \"Alicia\"])"
   ]
  },
  {
   "cell_type": "markdown",
   "metadata": {},
   "source": [
    "## Ejercicio 6: Búsqueda de claves en un diccionario\n",
    "\n",
    "Escribe un programa que recorra un diccionario y detenga la búsqueda si encuentra una clave específica pasada por el usuario.\n"
   ]
  },
  {
   "cell_type": "code",
   "execution_count": null,
   "metadata": {},
   "outputs": [],
   "source": [
    "def busqueda_claves(diccionario, clave_especifica):\n",
    "  lista_claves = []\n",
    "  for clave in diccionario:\n",
    "    if clave != clave_especifica:\n",
    "      lista_claves.append(clave)\n",
    "    else:\n",
    "      break\n",
    "  return lista_claves\n",
    "\n",
    "busqueda_claves({\"nombre\": \"Raquel\", \"peso\": 48, \"edad\": 21, \"color_pelo\": \"rubio\"}, \"edad\")"
   ]
  },
  {
   "cell_type": "markdown",
   "metadata": {},
   "source": [
    "## Ejercicio 7: Bucle con múltiples excepciones\n",
    "\n",
    "Escribe un bucle que procese una lista de operaciones matemáticas, omitiendo las operaciones que intenten dividir por cero.\n"
   ]
  },
  {
   "cell_type": "code",
   "execution_count": null,
   "metadata": {},
   "outputs": [],
   "source": [
    "def operaciones_matematicas(lista_numeros):\n",
    "  resultados = []\n",
    "  for numero in lista_numeros:\n",
    "    suma = 2 + numero \n",
    "    resultados.append(suma)\n",
    "    resta = 2 - numero \n",
    "    resultados.append(resta)\n",
    "    multiplicacion = 2 * numero \n",
    "    resultados.append(multiplicacion)\n",
    "    if numero != 0:\n",
    "      division = 2 / numero\n",
    "      resultados.append(division)\n",
    "    else:\n",
    "      continue\n",
    "\n",
    "  return resultados\n",
    "\n",
    "operaciones_matematicas([2,3,0,5])"
   ]
  },
  {
   "cell_type": "markdown",
   "metadata": {},
   "source": [
    "## Ejercicio 8: Búsqueda en una lista anidada\n",
    "\n",
    "Escribe un programa que recorra una lista de listas y detenga la búsqueda cuando encuentre un valor mayor a 50.\n"
   ]
  },
  {
   "cell_type": "code",
   "execution_count": null,
   "metadata": {},
   "outputs": [],
   "source": [
    "def busqueda_lista_anidada(lista_anidada):\n",
    "  numeros = []\n",
    "  for lista in lista_anidada:\n",
    "    for numero in lista:\n",
    "      if numero <= 50:\n",
    "        numeros.append(numero)\n",
    "      else:\n",
    "        break\n",
    "    if numero > 50:\n",
    "      break\n",
    "  return numeros \n",
    "\n",
    "busqueda_lista_anidada([[0, 22, -2, 40],[40, 55, 12, 33]])"
   ]
  },
  {
   "cell_type": "markdown",
   "metadata": {},
   "source": [
    "## Ejercicio 9: Evaluación de series temporales\n",
    "\n",
    "Escribe un programa que recorra una lista de datos de series temporales y se detenga si encuentra un valor atípico (mayor a 100).\n"
   ]
  },
  {
   "cell_type": "code",
   "execution_count": null,
   "metadata": {},
   "outputs": [],
   "source": [
    "def evaluacion_series_temporales(lista_serie_temporal):\n",
    "  for numero in lista_serie_temporal:\n",
    "     if numero > 100:\n",
    "      print(f\"Se ha detenido la búsqueda al encontrar un número atípico: {numero}\")\n",
    "      break\n",
    "  else:\n",
    "    print(\"No se han encontrado números atípicos\")\n",
    "\n",
    "evaluacion_series_temporales([15, 150, 45, 80, 97, 101, 132, 99])"
   ]
  },
  {
   "cell_type": "markdown",
   "metadata": {},
   "source": [
    "## Ejercicio 10: Iteración con valores faltantes\n",
    "\n",
    "Crea un bucle que recorra una lista de datos de ventas y salte los valores faltantes representados por `None`."
   ]
  },
  {
   "cell_type": "code",
   "execution_count": null,
   "metadata": {},
   "outputs": [],
   "source": [
    "def iteracion_valores_faltantes(lista_datos_ventas):\n",
    "  ventas = []\n",
    "  for venta in lista_datos_ventas:\n",
    "    if venta != None:\n",
    "      ventas.append(venta)\n",
    "    else:\n",
    "      continue\n",
    "    \n",
    "  return ventas\n",
    "\n",
    "iteracion_valores_faltantes([100, None, 20, None, 10, 50])"
   ]
  },
  {
   "cell_type": "markdown",
   "metadata": {},
   "source": [
    "## Ejercicio 11: Control de flujo en bucles anidados\n",
    "\n",
    "Escribe un bucle que recorra la matriz dada y se detenga si se encuentra un número negativo, mostrando su posición.\n",
    "\n"
   ]
  },
  {
   "cell_type": "code",
   "execution_count": null,
   "metadata": {},
   "outputs": [],
   "source": [
    "def posicion_valor_negativo(matriz):\n",
    "  for indice, valor in enumerate(matriz):  \n",
    "    for indice2, valor2 in enumerate(valor):  \n",
    "      if valor2 < 0: \n",
    "        break\n",
    "    if valor2 < 0: \n",
    "      print(f\"El número negativo {valor2} está en la posición {indice, indice2}\")\n",
    "      break\n",
    "  else:\n",
    "    print(\"No hay números negativos en la matriz\")      \n",
    "\n",
    "posicion_valor_negativo([\n",
    "    [2, 3, -5],\n",
    "    [4, 2, 0]\n",
    "])"
   ]
  },
  {
   "cell_type": "markdown",
   "metadata": {},
   "source": [
    "## Ejercicio 12: Placeholder para funciones incompletas\n",
    "\n",
    "Escribe una función que tenga un bloque de control que aún no esté implementado, utilizando `pass` para que no genere errores."
   ]
  },
  {
   "cell_type": "code",
   "execution_count": null,
   "metadata": {},
   "outputs": [],
   "source": [
    "def bloque_control(lista_numeros):\n",
    "  numeros_positivos = []\n",
    "  for numero in lista_numeros:\n",
    "    if numero > 0:\n",
    "      numeros_positivos.append(numero)\n",
    "    else:\n",
    "      pass\n",
    "  return numeros_positivos\n",
    "\n",
    "bloque_control([22, -45, 89, -10, 55, 42, -3])"
   ]
  }
 ],
 "metadata": {
  "kernelspec": {
   "display_name": "contenido",
   "language": "python",
   "name": "python3"
  },
  "language_info": {
   "codemirror_mode": {
    "name": "ipython",
    "version": 3
   },
   "file_extension": ".py",
   "mimetype": "text/x-python",
   "name": "python",
   "nbconvert_exporter": "python",
   "pygments_lexer": "ipython3",
   "version": "3.11.8"
  }
 },
 "nbformat": 4,
 "nbformat_minor": 2
}
