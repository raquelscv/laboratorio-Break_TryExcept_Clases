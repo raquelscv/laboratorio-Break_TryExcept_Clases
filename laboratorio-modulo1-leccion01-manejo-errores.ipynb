{
 "cells": [
  {
   "cell_type": "markdown",
   "metadata": {},
   "source": [
    "\n",
    "<div style=\"text-align: center;\">\n",
    "  <img src=\"https://github.com/Hack-io-Data/Imagenes/blob/main/01-LogosHackio/logo_celeste@4x.png?raw=true\" alt=\"esquema\" />\n",
    "</div>\n"
   ]
  },
  {
   "cell_type": "markdown",
   "metadata": {},
   "source": [
    "# Laboratorio de Python: manejo de errores."
   ]
  },
  {
   "cell_type": "markdown",
   "metadata": {},
   "source": [
    "## Ejercicio 1: División con manejo de excepciones\n",
    "\n",
    "Escribe un programa que pida al usuario dos números e intente dividirlos. Si el usuario ingresa un valor no numérico o intenta dividir por cero, maneja esas excepciones de manera adecuada. Asegúrate de mostrar un mensaje indicando si la división fue exitosa o no.\n"
   ]
  },
  {
   "cell_type": "code",
   "execution_count": null,
   "metadata": {},
   "outputs": [],
   "source": [
    "def division_numeros():\n",
    "    try:\n",
    "      numero1 = int(input(\"Ingresa el primer número: \"))\n",
    "      numero2 = int(input(\"Ingresa el segundo número: \"))\n",
    "      resultado = numero1 / numero2\n",
    "    except ZeroDivisionError:\n",
    "      print(\"No es posible dividir entre cero\")\n",
    "    except ValueError:\n",
    "      print(\"Se ha ingresado un valor no numérico que no es válido\")\n",
    "    else:\n",
    "      print(\"La división se ha realizado con éxito\")\n",
    "      return resultado\n",
    "\n",
    "division_numeros()"
   ]
  },
  {
   "cell_type": "markdown",
   "metadata": {},
   "source": [
    "## Ejercicio 2: Acceso a archivos\n",
    "\n",
    "Escribe un programa que intente abrir un archivo llamado \"datos.txt\". Si el archivo no existe, captura la excepción y muestra un mensaje de error. Asegúrate de cerrar el archivo correctamente en la sección `finally`.\n"
   ]
  },
  {
   "cell_type": "code",
   "execution_count": null,
   "metadata": {},
   "outputs": [],
   "source": [
    "def acceso_archivos():\n",
    "    try:\n",
    "        file = open(\"datos.txt\")\n",
    "    except FileNotFoundError:\n",
    "        print(\"No existe el archivo buscado\")\n",
    "    else:\n",
    "        file.write(\"Esto es una prueba\")\n",
    "    finally:\n",
    "        if file:\n",
    "            file.close()\n",
    "\n",
    "acceso_archivos()"
   ]
  },
  {
   "cell_type": "markdown",
   "metadata": {},
   "source": [
    "## Ejercicio 3: Conversión de cadenas a enteros\n",
    "\n",
    "Escribe un programa que pida una lista de números separados por comas y convierta cada valor a un número entero. Maneja las excepciones para valores que no sean convertibles y asegúrate de informar si la conversión fue exitosa o no.\n"
   ]
  },
  {
   "cell_type": "code",
   "execution_count": null,
   "metadata": {},
   "outputs": [],
   "source": [
    "def cadenas_a_enteros():\n",
    "    try: \n",
    "        numeros = input(\"Ingresa una lista de números separados por comas: \")\n",
    "        separados = numeros.split(\",\")  \n",
    "        lista_numeros_enteros = []\n",
    "        for numero in separados:\n",
    "            numero_a_int = int(numero.strip())  \n",
    "            lista_numeros_enteros.append(numero_a_int)\n",
    "    except ValueError:\n",
    "        print(\"No ha sido posible convertir uno de los valores a número entero\")\n",
    "    else:\n",
    "        print(\"La conversión a números enteros ha ocurrido con éxito\")\n",
    "        return lista_numeros_enteros\n",
    "    \n",
    "cadenas_a_enteros()"
   ]
  },
  {
   "cell_type": "markdown",
   "metadata": {},
   "source": [
    "#### Ejercicio 4: Cálculo del promedio con manejo de excepciones\n",
    "\n",
    "Escribe una función que reciba una lista de números y calcule su promedio. Si la lista está vacía, lanza una excepción personalizada y maneja el error adecuadamente.\n"
   ]
  },
  {
   "cell_type": "code",
   "execution_count": null,
   "metadata": {},
   "outputs": [],
   "source": [
    "class ListaVaciaError(Exception):\n",
    "    pass\n",
    "\n",
    "def promedio_numeros(lista):\n",
    "    try: \n",
    "        suma = 0\n",
    "        contar = len(lista)\n",
    "        for numero in lista:\n",
    "            suma += numero\n",
    "        if contar == 0:\n",
    "            raise ListaVaciaError\n",
    "    except ListaVaciaError:\n",
    "        print(\"No se ha introducido ningún número en la lista\")\n",
    "    else:\n",
    "        return suma/contar\n",
    "\n",
    "promedio_numeros([])\n",
    "promedio_numeros([2,3,4])"
   ]
  },
  {
   "cell_type": "markdown",
   "metadata": {},
   "source": [
    "#### Ejercicio 5: Conversión segura de números\n",
    "\n",
    "Escribe un programa que convierta una cadena a número flotante e intente realizar una operación aritmética. Si la conversión falla, maneja la excepción y continúa con el flujo normal."
   ]
  },
  {
   "cell_type": "code",
   "execution_count": null,
   "metadata": {},
   "outputs": [],
   "source": [
    "def conversion_numeros(cadena):\n",
    "  try:\n",
    "    numero_flotante = float(cadena)\n",
    "  except ValueError:\n",
    "    print(\"La cadena no se ha podido convertir a número flotante\")\n",
    "  else:\n",
    "    resultado_operacion = numero_flotante * 3 \n",
    "    print(f\"La conversión se ha hecho correctamente y el resultado de la operación es: {resultado_operacion}\")\n",
    "    return resultado_operacion\n",
    "\n",
    "conversion_numeros(\"2.4i\")"
   ]
  },
  {
   "cell_type": "markdown",
   "metadata": {},
   "source": [
    "#### Ejercicio 6: Acceso a claves en diccionarios\n",
    "\n",
    "Escribe un programa que intente acceder a una clave específica en un diccionario. Si la clave no existe, maneja la excepción `KeyError` y muestra un mensaje indicando el problema."
   ]
  },
  {
   "cell_type": "code",
   "execution_count": null,
   "metadata": {},
   "outputs": [],
   "source": [
    "def acceso_claves(diccionario):\n",
    "    try: \n",
    "        acceso_clave = diccionario[\"nombre\"]\n",
    "    except KeyError:\n",
    "        print(\"No ha sido posible acceder a la clave 'nombre' ya que esta no existe\")\n",
    "    else:\n",
    "        return acceso_clave\n",
    "    \n",
    "acceso_claves({\"nombre\": \"Raquel\", \"apellido\": \"Sánchez\", \"color_pelo\": \"rubio\"})"
   ]
  },
  {
   "cell_type": "markdown",
   "metadata": {},
   "source": [
    "\n",
    "#### Ejercicio 7: Verificación de entradas de usuario\n",
    "\n",
    "Escribe un programa que pida al usuario que introduzca su edad. Si el usuario ingresa un valor no numérico o un valor fuera del rango esperado (por ejemplo, menor que 0 o mayor que 120), maneja las excepciones adecuadamente."
   ]
  },
  {
   "cell_type": "code",
   "execution_count": null,
   "metadata": {},
   "outputs": [],
   "source": [
    "class EdadFueraRango(Exception):\n",
    "    pass\n",
    "\n",
    "def verificacion_entradas_usuario():\n",
    "    try: \n",
    "        edad = int(input(\"Ingresa tu edad: \"))\n",
    "        if edad < 0 or edad > 120:\n",
    "            raise EdadFueraRango\n",
    "    except ValueError:\n",
    "        print(\"La edad ingresada no es un número\")\n",
    "    except EdadFueraRango:\n",
    "        print(\"Esta edad no es válida\")\n",
    "    else:\n",
    "        return f\"Tu edad ha sido guardada correctamente. Tienes {edad} años\"\n",
    "    \n",
    "verificacion_entradas_usuario()"
   ]
  },
  {
   "cell_type": "markdown",
   "metadata": {},
   "source": [
    "#### Ejercicio 8: Extracción de valores de una lista\n",
    "\n",
    "Escribe una función que intente acceder a un índice específico en una lista. Si el índice está fuera del rango, maneja la excepción `IndexError` y muestra un mensaje adecuado.\n"
   ]
  },
  {
   "cell_type": "code",
   "execution_count": null,
   "metadata": {},
   "outputs": [],
   "source": [
    "def acceso_indices(lista_nombres):\n",
    "    try: \n",
    "        acceso_indice = lista_nombres[4]\n",
    "    except IndexError:\n",
    "        print(\"No ha sido posible acceder al índice 4 ya que no existe en la lista\")\n",
    "    else:\n",
    "        return acceso_indice\n",
    "    \n",
    "acceso_indices([\"Maria\", \"Raquel\", \"Carlota\", \"Pilar\", \"Lucia\"])"
   ]
  }
 ],
 "metadata": {
  "kernelspec": {
   "display_name": "contenido",
   "language": "python",
   "name": "python3"
  },
  "language_info": {
   "codemirror_mode": {
    "name": "ipython",
    "version": 3
   },
   "file_extension": ".py",
   "mimetype": "text/x-python",
   "name": "python",
   "nbconvert_exporter": "python",
   "pygments_lexer": "ipython3",
   "version": "3.11.8"
  }
 },
 "nbformat": 4,
 "nbformat_minor": 2
}
