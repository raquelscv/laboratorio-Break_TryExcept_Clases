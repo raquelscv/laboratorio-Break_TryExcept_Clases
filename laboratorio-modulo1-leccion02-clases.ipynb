{
 "cells": [
  {
   "cell_type": "markdown",
   "metadata": {},
   "source": [
    "\n",
    "<div style=\"text-align: center;\">\n",
    "  <img src=\"https://github.com/Hack-io-Data/Imagenes/blob/main/01-LogosHackio/logo_celeste@4x.png?raw=true\" alt=\"esquema\" />\n",
    "</div>\n"
   ]
  },
  {
   "cell_type": "markdown",
   "metadata": {},
   "source": [
    "# Laboratorio de Python: Clases y Objetos con Canciones\n",
    "\n",
    "## Ejercicio 1. Definición de la clase Cancion\n",
    "1.1. Define  la clase Cancion, la cual va a tener 4 atributos básicos. (título,  artista, album, genero y duración)\n",
    "\n",
    "1.2. Crea un método para la clase Cancion que nos muestre la información de la canción.\n",
    "\n",
    "1.3. Crea un método que nos permita comparar la duración de dos canciones y nos indique cuál de las dos es más larga.\n",
    "\n",
    "1.4. Crea un método que nos permita calcular la popularidad de una canción en función de varios criterios.\n",
    "\n",
    "- La puntuación base debe ser de 50.\n",
    "    \n",
    "- Las canciones de entre 2 y 4 minutos de duración son más populares, por lo que suman 20 puntos. Las demás restan 10.  \n",
    "\n",
    "- Las canciones de los géneros pop, rock, hip-hop y electrónicas son populares, por lo que suman 20 puntos. El resto de géneros restan 5 puntos.\n",
    "\n",
    "- Si una canción pertenece a un álbum suma 10 puntos.\n",
    "\n",
    "1.5. Crea dos instancias de la clase canción con la siguiente info: (\"Stairway to Heaven\", \"Led Zeppelin\", \"Led Zeppelin IV\", 8.02, \"Rock\") y (\"What's Going On\", \"Marvin Gaye\", \"What's Going On\", 3.53, \"Soul\")\n",
    "\n",
    "1.6. Comprueba el funcionamiento de cada uno de los métodos de la clase\n",
    "\n"
   ]
  },
  {
   "cell_type": "code",
   "execution_count": null,
   "metadata": {},
   "outputs": [],
   "source": [
    "class Cancion:\n",
    "    def __init__(self, titulo, artista, album, genero, duracion):\n",
    "        self.titulo = titulo \n",
    "        self.artista = artista\n",
    "        self.album = album\n",
    "        self.genero = genero \n",
    "        self.duracion = duracion\n",
    "    \n",
    "    def informacion(self):\n",
    "        return self.__dict__ \n",
    "    \n",
    "    def comparacion_duraciones(self, segunda_cancion):\n",
    "        if self.duracion == segunda_cancion:\n",
    "            return f\"La duración de las dos canciones es la misma\"\n",
    "        elif self.duracion > segunda_cancion:\n",
    "            return f\"La duración de la canción {self.titulo} es mayor\"\n",
    "        else:\n",
    "            return f\"La duración de la canción {self.titulo} es menor\"\n",
    "    \n",
    "    def popularidad(self):\n",
    "        self.puntuacion = 50\n",
    "        if self.duracion >= 2 and self.duracion <= 4:\n",
    "            self.puntuacion += 20\n",
    "        else:\n",
    "            self.puntuacion -= 10\n",
    "\n",
    "        if self.genero == \"Pop\" or self.genero == \"Rock\" or self.genero == \"Hip-Hop\" or self.genero == \"Electronicas\":\n",
    "            self.puntuacion += 20\n",
    "        else:\n",
    "            self.puntuacion -= 5\n",
    "        \n",
    "        if self.album != \" \":\n",
    "            self.puntuacion += 10\n",
    "        \n",
    "        return self.puntuacion\n"
   ]
  },
  {
   "cell_type": "code",
   "execution_count": null,
   "metadata": {},
   "outputs": [],
   "source": [
    "cancion1 = Cancion(\"Stairway to Heaven\", \"Led Zeppelin\", \"Led Zeppelin IV\", \"Rock\", 8.02)"
   ]
  },
  {
   "cell_type": "code",
   "execution_count": null,
   "metadata": {},
   "outputs": [],
   "source": [
    "cancion2 = Cancion(\"What's Going On\", \"Marvin Gaye\", \"What's Going On\", \"Soul\", 3.53)"
   ]
  },
  {
   "cell_type": "code",
   "execution_count": null,
   "metadata": {},
   "outputs": [],
   "source": [
    "cancion1.comparacion_duraciones(cancion2.duracion)"
   ]
  },
  {
   "cell_type": "code",
   "execution_count": null,
   "metadata": {},
   "outputs": [],
   "source": [
    "cancion1.informacion()\n",
    "cancion2.informacion()"
   ]
  },
  {
   "cell_type": "code",
   "execution_count": null,
   "metadata": {},
   "outputs": [],
   "source": [
    "cancion1.popularidad()"
   ]
  },
  {
   "cell_type": "markdown",
   "metadata": {},
   "source": [
    "## Ejercicio 2. Definición de la subclase Colaboracion\n",
    "2.1. Define  la subclase Colaboracion, la cual va a tener 5 atributos heredados de la clase Cancion (titulo, artista, album, duracion y genero) y va a tener un atributo básico (artistas_colaboradores)\n",
    "\n",
    "\n",
    "2.2. Crea un método que nos permita mostrar todos los detalles de una canción concreta (incluidos los artistas colaboradores).\n",
    "\n",
    "2.3. Crea un método que nos permita comprobar si una canción es o no una colaboración\n",
    "\n",
    "2.4. Crea un método que nos permita obtener el número de colaboradores.\n",
    "\n",
    "2.5. Crea un método que nos actualice la puntuación de la canción, ya qu es una colaboración sumará 5 puntos por cada colaborador\n",
    "\n",
    "2.6. Crea un método que nos permita obtener el colaborador principal asumiendo que es el primer colaborador en la lista.\n",
    "\n",
    "2.7. Crea una instancias de la clase Colaboracion con la siguiente info: (\"Meant to Be\", \"Bebe Rexha\", \"Expectations\", 2.44, \"Country Pop\", [\"Florida Georgia Line\"])\n",
    "\n",
    "2.8. Comprueba el funcionamiento de cada uno de los métodos de la subclase\n"
   ]
  },
  {
   "cell_type": "code",
   "execution_count": null,
   "metadata": {},
   "outputs": [],
   "source": [
    "class Colaboracion(Cancion):\n",
    "    def __init__(self, titulo, artista, album, genero, duracion, artistas_colaboradores):\n",
    "        super().__init__(titulo, artista, album, genero, duracion)\n",
    "        self.artistas_colaboradores = artistas_colaboradores\n",
    "\n",
    "    def informacion(self):\n",
    "        return self.__dict__ \n",
    "    \n",
    "    def comprobar_colaboracion(self):\n",
    "        if self.artistas_colaboradores == []:\n",
    "            return f\"La canción {self.titulo} no es una colaboración.\"\n",
    "        else:\n",
    "            return f\"La canción {self.titulo} si es una colaboración.\"\n",
    "    \n",
    "    def numero_colaboradores(self):\n",
    "        numero = len(self.artistas_colaboradores)\n",
    "        if numero == 1:\n",
    "          return f\"{self.titulo} tiene {numero} colaborador\"\n",
    "        else:\n",
    "          return f\"{self.titulo} tiene {numero} colaboradores\"\n",
    "        \n",
    "    def colaborador_principal(self):\n",
    "        principal = self.artistas_colaboradores[0]\n",
    "        return f\"El colaborador principal de la canción {self.titulo} es {principal}\"\n",
    "    \n",
    "    def popularidad(self):\n",
    "        self.puntuacion = 50\n",
    "        if self.duracion >= 2 and self.duracion <= 4:\n",
    "            self.puntuacion += 20\n",
    "        else:\n",
    "            self.puntuacion -= 10\n",
    "\n",
    "        if self.genero == \"Pop\" or self.genero == \"Rock\" or self.genero == \"Hip-Hop\" or self.genero == \"Electronicas\":\n",
    "            self.puntuacion += 20\n",
    "        else:\n",
    "            self.puntuacion -= 5\n",
    "        \n",
    "        if self.album != \" \":\n",
    "            self.puntuacion += 10\n",
    "        \n",
    "        if self.artistas_colaboradores != []:\n",
    "            numero = len(self.artistas_colaboradores)\n",
    "            self.puntuacion += (5*numero)\n",
    "\n",
    "        return self.puntuacion"
   ]
  },
  {
   "cell_type": "code",
   "execution_count": null,
   "metadata": {},
   "outputs": [],
   "source": [
    "Meant_to_Be = Colaboracion(\"Meant to Be\", \"Bebe Rexha\", \"Expectations\", \"Country Pop\", 2.44, [\"Florida Gerogia Line\"])"
   ]
  },
  {
   "cell_type": "code",
   "execution_count": null,
   "metadata": {},
   "outputs": [],
   "source": [
    "Meant_to_Be.informacion()"
   ]
  },
  {
   "cell_type": "code",
   "execution_count": null,
   "metadata": {},
   "outputs": [],
   "source": [
    "Meant_to_Be.comprobar_colaboracion()"
   ]
  },
  {
   "cell_type": "code",
   "execution_count": null,
   "metadata": {},
   "outputs": [],
   "source": [
    "Meant_to_Be.numero_colaboradores()"
   ]
  },
  {
   "cell_type": "code",
   "execution_count": null,
   "metadata": {},
   "outputs": [],
   "source": [
    "Meant_to_Be.colaborador_principal()"
   ]
  },
  {
   "cell_type": "code",
   "execution_count": null,
   "metadata": {},
   "outputs": [],
   "source": [
    "Meant_to_Be.popularidad()"
   ]
  },
  {
   "cell_type": "markdown",
   "metadata": {},
   "source": [
    "## Ejercicio 3. Definición de la subclase CancionPremiada\n",
    "3.1. Define  la clase CancionPremiada, la cual va a tener 5 atributos heredados de la clase Cancion (titulo, artista, album, duracion y genero) y va a tener un atributo básico (premios)\n",
    "\n",
    "3.2. Crea un método para la subclase CancionPremiada que nos permita mostrar todos los detalles de una canción concreta (incluidos los premios ganados).\n",
    "\n",
    "3.3. Crea un método que nos permita obtener el número de premios que ha ganado la canción.\n",
    "\n",
    "3.4. Crea un método que nos permita conocer si la canción ha ganado algún premio prestigioso de una lista predefinida de premios prestigiosos.\n",
    "```python\n",
    "lista_premios = [\"Grammy\", \"Oscar\", \"Golden Globe\", \"Brit Award\"]\n",
    "\n",
    "```\n",
    "\n",
    "3.5. Crea una instancias de la clase CancionPremiada con la siguiente info: (\"Just the Way You Are\", \"Bruno Mars\", \"Doo-Wops & Hooligans\", 3.40, \"Pop\", [\"Grammy\", \"American Music Award\"])\n",
    "\n",
    "3.6. Comprueba el funcionamiento de cada uno de los métodos de la subclase"
   ]
  },
  {
   "cell_type": "code",
   "execution_count": null,
   "metadata": {},
   "outputs": [],
   "source": [
    "class CancionPremiada(Cancion):\n",
    "  def __init__(self, titulo, artista, album, genero, duracion, premios):\n",
    "    super().__init__(titulo, artista, album, genero, duracion)\n",
    "    self.premios = premios\n",
    "\n",
    "  def informacion(self):\n",
    "    return self.__dict__ \n",
    "  \n",
    "  def numero_premios(self):\n",
    "    cantidad = len(self.premios)\n",
    "    if cantidad == 1:\n",
    "      return f\"La cancion {self.titulo} ha obtenido {cantidad} premio\"\n",
    "    else: \n",
    "      return f\"La cancion {self.titulo} ha obtenido {cantidad} premios\"\n",
    "  \n",
    "  def prestigio_premios(self):\n",
    "    lista_premios = [\"Grammy\", \"Oscar\", \"Golden Globe\", \"Brit Award\"]\n",
    "    premios = []\n",
    "    for premio in self.premios:\n",
    "      if premio in lista_premios:\n",
    "        premios.append(premio)\n",
    "        \n",
    "    numero = len(premios)\n",
    "    if numero == 1:\n",
    "      return f\"La cancion ha obtenido {numero} premio prestigioso\"\n",
    "    else:\n",
    "      return f\"La cancion ha obtenido {numero} premios prestigiosos\""
   ]
  },
  {
   "cell_type": "code",
   "execution_count": null,
   "metadata": {},
   "outputs": [],
   "source": [
    "CancionPremiada1 = CancionPremiada(\"Just the Way You Are\", \"Bruno Mars\", \"Doo-Wops & Hooligans\", \"Pop\", 3.40, [\"Grammy\", \"American Music Award\"])"
   ]
  },
  {
   "cell_type": "code",
   "execution_count": null,
   "metadata": {},
   "outputs": [],
   "source": [
    "CancionPremiada1.informacion()"
   ]
  },
  {
   "cell_type": "code",
   "execution_count": null,
   "metadata": {},
   "outputs": [],
   "source": [
    "CancionPremiada1.numero_premios()"
   ]
  },
  {
   "cell_type": "code",
   "execution_count": null,
   "metadata": {},
   "outputs": [],
   "source": [
    "CancionPremiada1.prestigio_premios()"
   ]
  },
  {
   "cell_type": "markdown",
   "metadata": {},
   "source": [
    "## Ejercicio 4. Definición de la clase Playlist\n",
    "4.1. Define  la clase Playlist, la cual va a tener 1 atributo básico. (nombre) y va a tener una lista con las canciones (inicialmente estará vacía)\n",
    "\n",
    "4.2. Crea un método para la clase Playlist que nos permita añadir una canción a nuestra Playlist. (Esta canción va a ser un objeto de la clase Cancion)\n",
    "\n",
    "4.3. Crea un método que nos permita eliminar canciones de nuestra Playlist.\n",
    "\n",
    "4.4. Crea un método que nos permita visualizar el nombre de nuestra playlist, las canciones que tiene y su información. \n",
    "\n",
    "4.5. Crea un método que nos permita encontrar y visualizar todas las caciones de un artista concreto de nuestra Playlist\n",
    "\n",
    "4.6. Crea un método para contar el número total de canciones de nuestra playlist y su duración total\n",
    "\n",
    "4.7. Crea un método que nos permita ordenar aleatoriamente las canciones de nuestra playlist\n",
    "\n",
    "4.8. Crea una instancia de la clase Playlist\n",
    "\n",
    "4.9. Dadas las listas canciones, canciones_colaboracion y canciones_premiadas crea instancias de cada clase que le corresponda y añade las canciones a la clase Playlist\n",
    "\n",
    "4.10. Elimina las siguientes canciones. [\"God Only Knows\", \"All of Me\", \"FRIENDS\"]\n",
    "\n",
    "4.11. Comprueba el funcionamiento de cada uno de los métodos de la clase\n",
    "\n",
    "```python\n",
    "canciones = [\n",
    "    (\"Yesterday\", \"The Beatles\", \"Help!\", 2.05, \"Rock\"),\n",
    "    (\"Bohemian Rhapsody\", \"Queen\", \"A Night at the Opera\", 5.55, \"Rock\"),\n",
    "    (\"Hotel California\", \"Eagles\", \"Hotel California\", 6.30, \"Rock\"),\n",
    "    (\"Like a Rolling Stone\", \"Bob Dylan\", \"Highway 61 Revisited\", 6.13, \"Folk Rock\"),\n",
    "    (\"What's Going On\", \"Marvin Gaye\", \"What's Going On\", 3.53, \"Soul\"),\n",
    "    (\"Stairway to Heaven\", \"Led Zeppelin\", \"Led Zeppelin IV\", 8.02, \"Rock\"),\n",
    "    (\"Imagine\", \"John Lennon\", \"Imagine\", 3.01, \"Pop Rock\"),\n",
    "    (\"Smells Like Teen Spirit\", \"Nirvana\", \"Nevermind\", 5.01, \"Grunge\"),\n",
    "    (\"Good Vibrations\", \"The Beach Boys\", \"Smiley Smile\", 3.37, \"Pop\"),\n",
    "    (\"Purple Haze\", \"Jimi Hendrix\", \"Are You Experienced\", 2.51, \"Rock\"),\n",
    "    (\"Billie Jean\", \"Michael Jackson\", \"Thriller\", 4.54, \"Pop\"),\n",
    "    (\"I Can't Get No (Satisfaction)\", \"The Rolling Stones\", \"Out of Our Heads\", 3.43, \"Rock\"),\n",
    "    (\"God Only Knows\", \"The Beach Boys\", \"Pet Sounds\", 2.55, \"Pop\"),\n",
    "    (\"A Day in the Life\", \"The Beatles\", \"Sgt. Pepper's Lonely Hearts Club Band\", 5.38, \"Rock\"),\n",
    "    (\"Layla\", \"Derek and the Dominos\", \"Layla and Other Assorted Love Songs\", 7.05, \"Rock\"),\n",
    "    (\"What's Love Got to Do with It\", \"Tina Turner\", \"Private Dancer\", 3.49, \"Pop\"),\n",
    "    (\"Thunder Road\", \"Bruce Springsteen\", \"Born to Run\", 4.49, \"Rock\"),\n",
    "    (\"Hotel California\", \"Eagles\", \"Hotel California\", 6.30, \"Rock\")\n",
    "    (\"Superstition\", \"Stevie Wonder\", \"Talking Book\", 4.26, \"Funk\"),\n",
    "    (\"Waterloo Sunset\", \"The Kinks\", \"Something Else by The Kinks\", 3.15, \"Rock\"),\n",
    "    (\"Gimme Shelter\", \"The Rolling Stones\", \"Let It Bleed\", 4.31, \"Rock\"),\n",
    "    (\"What'd I Say\", \"Ray Charles\", \"What'd I Say\", 5.04, \"R&B\"),\n",
    "    (\"Heroes\", \"David Bowie\", \"'Heroes'\", 6.11, \"Rock\"),\n",
    "    (\"California Dreamin'\", \"The Mamas & the Papas\", \"If You Can Believe Your Eyes and Ears\", 2.42, \"Pop\"),\n",
    "    (\"Losing My Religion\", \"R.E.M.\", \"Out of Time\", 4.28, \"Alternative Rock\"),\n",
    "    (\"House of the Rising Sun\", \"The Animals\", \"The Animals\", 4.29, \"Rock\"),\n",
    "    (\"Sweet Child o' Mine\", \"Guns N' Roses\", \"Appetite for Destruction\", 5.56, \"Rock\"),\n",
    "    (\"All Along the Watchtower\", \"The Jimi Hendrix Experience\", \"Electric Ladyland\", 4.01, \"Rock\"),\n",
    "    (\"Jolene\", \"Dolly Parton\", \"Jolene\", 2.42, \"Country\"),\n",
    "    (\"I Want to Hold Your Hand\", \"The Beatles\", \"Meet the Beatles!\", 2.24, \"Pop\"),\n",
    "    (\"Born to Run\", \"Bruce Springsteen\", \"Born to Run\", 4.30, \"Rock\"),\n",
    "    (\"No Woman, No Cry\", \"Bob Marley & The Wailers\", \"Live!\", 7.08, \"Reggae\"),\n",
    "    (\"Every Breath You Take\", \"The Police\", \"Synchronicity\", 4.13, \"Rock\"),\n",
    "    (\"Respect\", \"Aretha Franklin\", \"I Never Loved a Man the Way I Love You\", 2.29, \"Soul\"),\n",
    "    (\"Bridge Over Troubled Water\", \"Simon & Garfunkel\", \"Bridge Over Troubled Water\", 4.52, \"Folk\"),\n",
    "    (\"Light My Fire\", \"The Doors\", \"The Doors\", 7.06, \"Rock\"),\n",
    "    (\"My Girl\", \"The Temptations\", \"The Temptations Sing Smokey\", 2.55, \"Soul\"),\n",
    "    (\"Hey Jude\", \"The Beatles\", \"Hey Jude\", 7.11, \"Rock\"),\n",
    "    (\"Ring of Fire\", \"Johnny Cash\", \"Ring of Fire: The Best of Johnny Cash\", 2.38, \"Country\"),\n",
    "    (\"Walk on the Wild Side\", \"Lou Reed\", \"Transformer\", 4.12, \"Rock\"),\n",
    "    (\"I Will Survive\", \"Gloria Gaynor\", \"Love Tracks\", 4.57, \"Disco\"),\n",
    "    (\"Ain't No Mountain High Enough\", \"Marvin Gaye & Tammi Terrell\", \"United\", 2.29, \"Soul\"),\n",
    "    (\"I Heard It Through the Grapevine\", \"Marvin Gaye\", \"In the Groove\", 3.13, \"Soul\"),\n",
    "    (\"Let It Be\", \"The Beatles\", \"Let It Be\", 4.03, \"Rock\"),\n",
    "    (\"Hallelujah\", \"Leonard Cohen\", \"Various Positions\", 4.36, \"Folk\"),\n",
    "    (\"Blowin' in the Wind\", \"Bob Dylan\", \"The Freewheelin' Bob Dylan\", 2.49, \"Folk\"),\n",
    "    (\"Hotel California\", \"Eagles\", \"Hotel California\", 6.30, \"Rock\"),\n",
    "    (\"Born to Be Wild\", \"Steppenwolf\", \"Steppenwolf\", 3.28, \"Rock\"),\n",
    "    (\"You Shook Me All Night Long\", \"AC/DC\", \"Back in Black\", 3.30, \"Rock\"),\n",
    "    (\"Good Times Bad Times\", \"Led Zeppelin\", \"Led Zeppelin\", 2.47, \"Rock\")\n",
    "]\n",
    "\n",
    "canciones_colaboracion = [\n",
    "    (\"Rain on Me\", \"Lady Gaga\", \"Chromatica\", 3.02, \"Pop\", [\"Ariana Grande\"]),\n",
    "    (\"Señorita\", \"Shawn Mendes\", \"Shawn Mendes\", 3.10, \"Pop\", [\"Camila Cabello\"]),\n",
    "    (\"I Don't Care\", \"Ed Sheeran\", \"No.6 Collaborations Project\", 3.39, \"Pop\", [\"Justin Bieber\"]),\n",
    "    (\"Shallow\", \"Lady Gaga\", \"A Star Is Born\", 3.37, \"Soundtrack\", [\"Bradley Cooper\"]),\n",
    "    (\"Havana\", \"Camila Cabello\", \"Camila\", 3.37, \"Pop\", [\"Young Thug\"]),\n",
    "    (\"Savage Love\", \"Jawsh 685\", \"Savage Love\", 2.51, \"Pop\", [\"Jason Derulo\"]),\n",
    "    (\"One Kiss\", \"Calvin Harris\", \"One Kiss\", 3.34, \"Electronic\", [\"Dua Lipa\"]),\n",
    "    (\"Stay\", \"The Kid LAROI\", \"Stay\", 2.21, \"Pop\", [\"Justin Bieber\"]),\n",
    "    (\"Closer\", \"The Chainsmokers\", \"Collage\", 4.04, \"Electronic\", [\"Halsey\"]),\n",
    "    (\"Rockstar\", \"DaBaby\", \"Blame It on Baby\", 3.01, \"Hip-Hop\", [\"Roddy Ricch\"]),\n",
    "    (\"Sicko Mode\", \"Travis Scott\", \"Astroworld\", 5.12, \"Hip-Hop\", [\"Drake\"]),\n",
    "    (\"Finesse (Remix)\", \"Bruno Mars\", \"24K Magic\", 3.37, \"Funk\", [\"Cardi B\"]),\n",
    "    (\"Eastside\", \"Benny Blanco\", \"Friends Keep Secrets\", 2.53, \"Pop\", [\"Halsey\", \"Khalid\"]),\n",
    "    (\"Don't Let Me Down\", \"The Chainsmokers\", \"Collage\", 3.28, \"Electronic\", [\"Daya\"]),\n",
    "    (\"Taki Taki\", \"DJ Snake\", \"Carte Blanche\", 3.32, \"Reggaeton\", [\"Selena Gomez\", \"Ozuna\", \"Cardi B\"]),\n",
    "    (\"Beautiful People\", \"Ed Sheeran\", \"No.6 Collaborations Project\", 3.18, \"Pop\", [\"Khalid\"]),\n",
    "    (\"I Like It\", \"Cardi B\", \"Invasion of Privacy\", 4.13, \"Hip-Hop\", [\"Bad Bunny\", \"J Balvin\"]),\n",
    "    (\"Meant to Be\", \"Bebe Rexha\", \"Expectations\", 2.44, \"Country Pop\", [\"Florida Georgia Line\"]),\n",
    "    (\"MIA\", \"Bad Bunny\", \"X 100PRE\", 3.30, \"Reggaeton\", [\"Drake\"]),\n",
    "    (\"FRIENDS\", \"Marshmello\", \"Joytime II\", 3.22, \"Electronic\", [\"Anne-Marie\"]),\n",
    "    (\"No Brainer\", \"DJ Khaled\", \"Father of Asahd\", 4.20, \"Hip-Hop\", [\"Justin Bieber\", \"Chance the Rapper\", \"Quavo\"]),\n",
    "    (\"Tusa\", \"Karol G\", \"Tusa\", 3.20, \"Reggaeton\", [\"Nicki Minaj\"]),\n",
    "    (\"Talk\", \"Khalid\", \"Free Spirit\", 3.17, \"R&B\", [\"Disclosure\"]),\n",
    "    (\"Goodbyes\", \"Post Malone\", \"Hollywood's Bleeding\", 2.55, \"Hip-Hop\", [\"Young Thug\"]),\n",
    "    (\"Señorita\", \"Shawn Mendes\", \"Romance\", 3.10, \"Pop\", [\"Camila Cabello\"]),\n",
    "    (\"Señorita\", \"Shawn Mendes\", \"Romance\", 3.10, \"Pop\", [\"Camila Cabello\"]),\n",
    "    (\"Dusk Till Dawn\", \"Zayn\", \"Icarus Falls\", 4.27, \"Pop\", [\"Sia\"]),\n",
    "    (\"Unforgettable\", \"French Montana\", \"Jungle Rules\", 3.53, \"Hip-Hop\", [\"Swae Lee\"]),\n",
    "    (\"Drip Too Hard\", \"Lil Baby\", \"Drip Harder\", 2.25, \"Hip-Hop\", [\"Gunna\"]),\n",
    "    (\"Wake Me Up\", \"Avicii\", \"True\", 4.07, \"Electronic\", [\"Aloe Blacc\"]),\n",
    "    (\"Stargazing\", \"Travis Scott\", \"Astroworld\", 4.30, \"Hip-Hop\", [\"Kid Cudi\"]),\n",
    "    (\"HUMBLE.\", \"Kendrick Lamar\", \"DAMN.\", 2.57, \"Hip-Hop\", [\"Mike WiLL Made-It\"]),\n",
    "    (\"Bodak Yellow\", \"Cardi B\", \"Invasion of Privacy\", 3.54, \"Hip-Hop\", [\"J White Did It\"]),\n",
    "    (\"Love Lies\", \"Khalid\", \"Love, Simon\", 3.22, \"R&B\", [\"Normani\"]),\n",
    "    (\"Body\", \"Loud Luxury\", \"Nights Like This\", 2.43, \"Electronic\", [\"Brando\"]),\n",
    "    (\"I Took a Pill in Ibiza\", \"Mike Posner\", \"At Night, Alone\", 3.19, \"Electronic\", [\"Seeb\"]),\n",
    "    (\"Hotline Bling\", \"Drake\", \"Views\", 4.27, \"Hip-Hop\", [\"Nineteen85\"]),\n",
    "    (\"Falling\", \"Trevor Daniel\", \"Nicotine\", 2.39, \"Pop\", [\"Charlie Handsome\"]),\n",
    "    (\"SAD!\", \"XXXTENTACION\", \"?\", 2.46, \"Hip-Hop\", [\"John Cunningham\"]),\n",
    "    (\"Without Me\", \"Halsey\", \"Manic\", 3.21, \"Pop\", [\"Louis Bell\"]),\n",
    "    (\"Hot Girl Summer\", \"Megan Thee Stallion\", \"Hot Girl Summer\", 3.19, \"Hip-Hop\", [\"Nicki Minaj\", \"Ty Dolla $ign\"]),\n",
    "    (\"Delicate\", \"Taylor Swift\", \"Reputation\", 3.52, \"Pop\", [\"Max Martin\"]),\n",
    "    (\"Good Old Days\", \"Macklemore\", \"Gemini\", 4.00, \"Pop\", [\"Kesha\"]),\n",
    "    (\"Attention\", \"Charlie Puth\", \"Voicenotes\", 3.31, \"Pop\", [\"Jacob Kasher\"]),\n",
    "    (\"Dancing with a Stranger\", \"Sam Smith\", \"Love Goes\", 2.51, \"Pop\", [\"Normani\"]),\n",
    "    (\"IDGAF\", \"Dua Lipa\", \"Dua Lipa\", 3.38, \"Pop\", [\"Jason Evigan\"]),\n",
    "    (\"Don't Call Me Up\", \"Mabel\", \"High Expectations\", 2.58, \"Pop\", [\"Steve Mac\"]),\n",
    "    (\"Talk Dirty\", \"Jason Derulo\", \"Tattoos\", 2.57, \"Hip-Hop\", [\"2 Chainz\"]),\n",
    "    (\"Let Me Love You\", \"DJ Snake\", \"Encore\", 3.25, \"Electronic\", [\"Justin Bieber\"]),\n",
    "]\n",
    "\n",
    "canciones_premiadas = [\n",
    "    (\"Rolling in the Deep\", \"Adele\", \"21\", 3.48, \"Soul\", [\"Grammy\", \"Brit Award\", \"MTV Video Music Award\"]),\n",
    "    (\"Bad Guy\", \"Billie Eilish\", \"When We All Fall Asleep, Where Do We Go?\", 3.14, \"Alternative\", [\"Grammy\", \"MTV Europe Music Award\"]),\n",
    "    (\"Uptown Funk\", \"Mark Ronson\", \"Uptown Special\", 4.30, \"Funk\", [\"Grammy\", \"Brit Award\"]),\n",
    "    (\"Hello\", \"Adele\", \"25\", 4.55, \"Soul\", [\"Grammy\", \"Brit Award\", \"Billboard Music Award\"]),\n",
    "    (\"Stay with Me\", \"Sam Smith\", \"In the Lonely Hour\", 2.52, \"Pop\", [\"Grammy\", \"Brit Award\", \"iHeartRadio Music Award\"]),\n",
    "    (\"Thinking Out Loud\", \"Ed Sheeran\", \"x\", 4.41, \"Pop\", [\"Grammy\", \"Brit Award\", \"Ivor Novello Award\"]),\n",
    "    (\"Shape of You\", \"Ed Sheeran\", \"÷\", 3.53, \"Pop\", [\"Grammy\", \"Brit Award\", \"Billboard Music Award\"]),\n",
    "    (\"We Are Young\", \"Fun.\", \"Some Nights\", 4.10, \"Alternative\", [\"Grammy\", \"MTV Video Music Award\"]),\n",
    "    (\"Royals\", \"Lorde\", \"Pure Heroine\", 3.10, \"Pop\", [\"Grammy\", \"MTV Video Music Award\"]),\n",
    "    (\"HUMBLE.\", \"Kendrick Lamar\", \"DAMN.\", 2.57, \"Hip-Hop\", [\"Grammy\", \"MTV Video Music Award\", \"BET Hip Hop Award\"]),\n",
    "    (\"Blinding Lights\", \"The Weeknd\", \"After Hours\", 3.22, \"Pop\", [\"Billboard Music Award\", \"MTV Video Music Award\"]),\n",
    "    (\"I Will Always Love You\", \"Whitney Houston\", \"The Bodyguard\", 4.31, \"Soul\", [\"Grammy\", \"American Music Award\"]),\n",
    "    (\"My Heart Will Go On\", \"Celine Dion\", \"Let's Talk About Love\", 4.40, \"Pop\", [\"Grammy\", \"Golden Globe\", \"Academy Award\"]),\n",
    "    (\"Toxic\", \"Britney Spears\", \"In the Zone\", 3.19, \"Pop\", [\"Grammy\", \"MTV Europe Music Award\"]),\n",
    "    (\"Rehab\", \"Amy Winehouse\", \"Back to Black\", 3.35, \"Soul\", [\"Grammy\", \"Brit Award\"]),\n",
    "    (\"Bad Romance\", \"Lady Gaga\", \"The Fame Monster\", 4.54, \"Pop\", [\"Grammy\", \"MTV Video Music Award\", \"Brit Award\"]),\n",
    "    (\"Tears in Heaven\", \"Eric Clapton\", \"Rush\", 4.36, \"Rock\", [\"Grammy\", \"Brit Award\"]),\n",
    "    (\"Kiss from a Rose\", \"Seal\", \"Seal\", 4.48, \"Pop\", [\"Grammy\", \"Brit Award\"]),\n",
    "    (\"Fallin'\", \"Alicia Keys\", \"Songs in A Minor\", 3.30, \"Soul\", [\"Grammy\", \"MTV Video Music Award\"]),\n",
    "    (\"Just the Way You Are\", \"Bruno Mars\", \"Doo-Wops & Hooligans\", 3.40, \"Pop\", [\"Grammy\", \"American Music Award\"]),\n",
    "    (\"All of Me\", \"John Legend\", \"Love in the Future\", 4.30, \"R&B\", [\"Billboard Music Award\", \"iHeartRadio Music Award\"]),\n",
    "    (\"Formation\", \"Beyoncé\", \"Lemonade\", 3.26, \"R&B\", [\"Grammy\", \"MTV Video Music Award\", \"BET Award\"]),\n",
    "    (\"Chandelier\", \"Sia\", \"1000 Forms of Fear\", 3.36, \"Pop\", [\"MTV Video Music Award\", \"ARIA Music Award\"]),\n",
    "    (\"Happy\", \"Pharrell Williams\", \"G I R L\", 3.53, \"Pop\", [\"Grammy\", \"Billboard Music Award\"]),\n",
    "    (\"Someone Like You\", \"Adele\", \"21\", 4.45, \"Soul\", [\"Grammy\", \"Brit Award\"]),\n",
    "    (\"All of Me\", \"John Legend\", \"Love in the Future\", 4.30, \"R&B\", [\"Billboard Music Award\", \"iHeartRadio Music Award\"]),\n",
    "    (\"Formation\", \"Beyoncé\", \"Lemonade\", 3.26, \"R&B\", [\"Grammy\", \"MTV Video Music Award\", \"BET Award\"]),\n",
    "    (\"Chandelier\", \"Sia\", \"1000 Forms of Fear\", 3.36, \"Pop\", [\"MTV Video Music Award\", \"ARIA Music Award\"]),\n",
    "    (\"Happy\", \"Pharrell Williams\", \"G I R L\", 3.53, \"Pop\", [\"Grammy\", \"Billboard Music Award\"]),\n",
    "    (\"Someone Like You\", \"Adele\", \"21\", 4.45, \"Soul\", [\"Grammy\", \"Brit Award\"]),\n",
    "    (\"Rolling in the Deep\", \"Adele\", \"21\", 3.48, \"Soul\", [\"Grammy\", \"Brit Award\", \"MTV Video Music Award\"]),\n",
    "    (\"Rehab\", \"Amy Winehouse\", \"Back to Black\", 3.35, \"Soul\", [\"Grammy\", \"Brit Award\"]),\n",
    "    (\"Rolling in the Deep\", \"Adele\", \"21\", 3.48, \"Soul\", [\"Grammy\", \"Brit Award\", \"MTV Video Music Award\"]),\n",
    "    (\"Royals\", \"Lorde\", \"Pure Heroine\", 3.10, \"Pop\", [\"Grammy\", \"MTV Video Music Award\"]),\n",
    "    (\"Blinding Lights\", \"The Weeknd\", \"After Hours\", 3.22, \"Pop\", [\"Billboard Music Award\", \"MTV Video Music Award\"]),\n",
    "    (\"I Will Always Love You\", \"Whitney Houston\", \"The Bodyguard\", 4.31, \"Soul\", [\"Grammy\", \"American Music Award\"]),\n",
    "    (\"My Heart Will Go On\", \"Celine Dion\", \"Let's Talk About Love\", 4.40, \"Pop\", [\"Grammy\", \"Golden Globe\", \"Academy Award\"]),\n",
    "    (\"Toxic\", \"Britney Spears\", \"In the Zone\", 3.19, \"Pop\", [\"Grammy\", \"MTV Europe Music Award\"]),\n",
    "    (\"Rehab\", \"Amy Winehouse\", \"Back to Black\", 3.35, \"Soul\", [\"Grammy\", \"Brit Award\"]),\n",
    "    (\"Hello\", \"Adele\", \"25\", 4.55, \"Soul\", [\"Grammy\", \"Brit Award\", \"Billboard Music Award\"]),\n",
    "    (\"Rolling in the Deep\", \"Adele\", \"21\", 3.48, \"Soul\", [\"Grammy\", \"Brit Award\", \"MTV Video Music Award\"]),\n",
    "    (\"Bad Romance\", \"Lady Gaga\", \"The Fame Monster\", 4.54, \"Pop\", [\"Grammy\", \"MTV Video Music Award\", \"Brit Award\"]),\n",
    "    (\"We Are Young\", \"Fun.\", \"Some Nights\", 4.10, \"Alternative\", [\"Grammy\", \"MTV Video Music Award\"]),\n",
    "    (\"Rolling in the Deep\", \"Adele\", \"21\", 3.48, \"Soul\", [\"Grammy\", \"Brit Award\", \"MTV Video Music Award\"]),\n",
    "    (\"HUMBLE.\", \"Kendrick Lamar\", \"DAMN.\", 2.57, \"Hip-Hop\", [\"Grammy\", \"MTV Video Music Award\", \"BET Hip Hop Award\"]),\n",
    "    (\"Blinding Lights\", \"The Weeknd\", \"After Hours\", 3.22, \"Pop\", [\"Billboard Music Award\", \"MTV Video Music Award\"]),\n",
    "    (\"All of Me\", \"John Legend\", \"Love in the Future\", 4.30, \"R&B\", [\"Billboard Music Award\", \"iHeartRadio Music Award\"]),\n",
    "    (\"Formation\", \"Beyoncé\", \"Lemonade\", 3.26, \"R&B\", [\"Grammy\", \"MTV Video Music Award\", \"BET Award\"])\n",
    "]\n",
    "\n",
    "```"
   ]
  },
  {
   "cell_type": "code",
   "execution_count": null,
   "metadata": {},
   "outputs": [],
   "source": [
    "import random"
   ]
  },
  {
   "cell_type": "code",
   "execution_count": null,
   "metadata": {},
   "outputs": [],
   "source": [
    "class Playlist():\n",
    "    def __init__(self, nombre):\n",
    "        self.nombre = nombre\n",
    "        self.lista_canciones = []\n",
    "\n",
    "    def añadir_canciones(self):\n",
    "        for cancion in self.lista_vacia:\n",
    "            self.lista_canciones.append(cancion)\n",
    "    \n",
    "    def quitar_canciones(self,titulo_cancion):\n",
    "        for cancion in self.lista_canciones:\n",
    "                if cancion[0] == titulo_cancion:\n",
    "                    self.lista_canciones.remove(cancion)\n",
    "\n",
    "    def mostrar_info(self):\n",
    "        return self.__dict__   \n",
    "\n",
    "    def encontrar_canciones_artista(self, artista):\n",
    "        lista_canciones_artista = []\n",
    "        for cancion in self.lista_canciones:\n",
    "            if cancion[1] == artista:\n",
    "                lista_canciones_artista.append(cancion)\n",
    "        return lista_canciones_artista\n",
    "\n",
    "    def contar_numero_canciones(self):\n",
    "        numero_total_canciones = len(self.lista_canciones)\n",
    "        contador = 0\n",
    "        for cancion_duracion in self.lista_canciones:\n",
    "            contador += cancion_duracion[3]\n",
    "        print(numero_total_canciones)\n",
    "        return contador\n",
    "        \n",
    "    def ordenar_canciones(self):\n",
    "        random.shuffle(self.lista_canciones)\n",
    "\n",
    "    def crear_instancias_clase(self):\n",
    "        self.lista_vacia = []    \n",
    "        for cancion in canciones:\n",
    "            instancia1 = Cancion(cancion[0], cancion[1], cancion[2], cancion[3], cancion[4])\n",
    "            self.lista_vacia.append(instancia1)\n",
    "            \n",
    "        for cancion in canciones_colaboracion:\n",
    "            instancia2 = Colaboracion(cancion[0], cancion[1], cancion[2], cancion[3], cancion[4], cancion[5])\n",
    "            self.lista_vacia.append(instancia2)\n",
    "            \n",
    "        for cancion in canciones_premiadas:\n",
    "            instancia3 = CancionPremiada(cancion[0], cancion[1], cancion[2], cancion[3], cancion[4], cancion[5])\n",
    "            self.lista_vacia.append(instancia3)\n",
    "        print(len(self.lista_vacia)) \n",
    "        return self.lista_vacia"
   ]
  },
  {
   "cell_type": "code",
   "execution_count": null,
   "metadata": {},
   "outputs": [],
   "source": [
    "Playlist1 = Playlist(\"Playlist1\")"
   ]
  },
  {
   "cell_type": "code",
   "execution_count": null,
   "metadata": {},
   "outputs": [],
   "source": [
    "Playlist1.añadir_canciones()"
   ]
  },
  {
   "cell_type": "code",
   "execution_count": null,
   "metadata": {},
   "outputs": [],
   "source": [
    "Playlist1.quitar_canciones(\"God Only Knows\")\n",
    "Playlist1.quitar_canciones(\"FRIENDS\")\n",
    "Playlist1.quitar_canciones(\"All of Me\")"
   ]
  },
  {
   "cell_type": "code",
   "execution_count": null,
   "metadata": {},
   "outputs": [],
   "source": [
    "Playlist1.mostrar_info()"
   ]
  },
  {
   "cell_type": "code",
   "execution_count": null,
   "metadata": {},
   "outputs": [],
   "source": [
    "Playlist1.ordenar_canciones()"
   ]
  },
  {
   "cell_type": "code",
   "execution_count": null,
   "metadata": {},
   "outputs": [],
   "source": [
    "Playlist1.contar_numero_canciones()"
   ]
  },
  {
   "cell_type": "code",
   "execution_count": null,
   "metadata": {},
   "outputs": [],
   "source": [
    "Playlist1.encontrar_canciones_artista(\"The Beatles\")"
   ]
  }
 ],
 "metadata": {
  "kernelspec": {
   "display_name": "base",
   "language": "python",
   "name": "python3"
  },
  "language_info": {
   "codemirror_mode": {
    "name": "ipython",
    "version": 3
   },
   "file_extension": ".py",
   "mimetype": "text/x-python",
   "name": "python",
   "nbconvert_exporter": "python",
   "pygments_lexer": "ipython3",
   "version": "3.12.2"
  }
 },
 "nbformat": 4,
 "nbformat_minor": 2
}
